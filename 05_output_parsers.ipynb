{
 "cells": [
  {
   "attachments": {},
   "cell_type": "markdown",
   "id": "13d7fc40",
   "metadata": {},
   "source": [
    "# Output Parsers - Formatando saídas"
   ]
  },
  {
   "attachments": {},
   "cell_type": "markdown",
   "id": "06a1c63e",
   "metadata": {},
   "source": [
    "Como retornar dados estruturados de um modelo?\n",
    "\n",
    "É frequentemente útil que um modelo retorne uma saída que corresponda a um esquema específico. Um caso de uso comum é a extração de dados de um texto para inseri-los em um banco de dados ou utilizá-los em algum outro sistema subsequente. Nesta aula abordaremos algumas estratégias para obter saídas estruturadas de um modelo."
   ]
  },
  {
   "cell_type": "markdown",
   "id": "34260cfa",
   "metadata": {},
   "source": [
    "## Estruturando saídas de chat - StrOutputParser\n",
    "\n",
    "O formatador mais simples do LangChain é o StrOutputParser. Ele é utilizado para convertermos saídas do modelo no formato de conversação para formato texto. É um atividade bem comum, levando em consideração que maior parte das llms que utilizamos com LangChain são acessadas através dos ChatModels"
   ]
  },
  {
   "cell_type": "code",
   "execution_count": 1,
   "id": "43630042",
   "metadata": {},
   "outputs": [
    {
     "data": {
      "text/plain": [
       "[SystemMessage(content='Você é um assistente engraçado e se chama Asimo', additional_kwargs={}, response_metadata={}),\n",
       " HumanMessage(content='Qual o seu nome?', additional_kwargs={}, response_metadata={})]"
      ]
     },
     "execution_count": 1,
     "metadata": {},
     "output_type": "execute_result"
    }
   ],
   "source": [
    "from langchain.prompts import ChatPromptTemplate\n",
    "\n",
    "chat_template = ChatPromptTemplate.from_messages(\n",
    "    [\n",
    "        ('system', 'Você é um assistente engraçado e se chama {nome_assistente}'),\n",
    "        ('human', '{pergunta}')\n",
    "    ]\n",
    ")\n",
    "\n",
    "chat_template.format_messages(nome_assistente='Asimo', pergunta='Qual o seu nome?')"
   ]
  },
  {
   "cell_type": "code",
   "execution_count": 2,
   "id": "0c339f6a",
   "metadata": {},
   "outputs": [
    {
     "data": {
      "text/plain": [
       "ChatPromptValue(messages=[SystemMessage(content='Você é um assistente engraçado e se chama Asimo', additional_kwargs={}, response_metadata={}), HumanMessage(content='Qual o seu nome?', additional_kwargs={}, response_metadata={})])"
      ]
     },
     "execution_count": 2,
     "metadata": {},
     "output_type": "execute_result"
    }
   ],
   "source": [
    "prompt = chat_template.invoke({'nome_assistente': 'Asimo', 'pergunta':'Qual o seu nome?'})\n",
    "prompt"
   ]
  },
  {
   "cell_type": "code",
   "execution_count": 3,
   "id": "307ad7f7",
   "metadata": {},
   "outputs": [
    {
     "data": {
      "text/plain": [
       "AIMessage(content='Olá! Meu nome é Asimo. Como posso ajudar você hoje?', additional_kwargs={'refusal': None}, response_metadata={'token_usage': {'completion_tokens': 19, 'prompt_tokens': 31, 'total_tokens': 50, 'completion_tokens_details': {'accepted_prediction_tokens': 0, 'audio_tokens': 0, 'reasoning_tokens': 0, 'rejected_prediction_tokens': 0}, 'prompt_tokens_details': {'audio_tokens': 0, 'cached_tokens': 0}}, 'model_name': 'gpt-3.5-turbo-0125', 'system_fingerprint': None, 'finish_reason': 'stop', 'logprobs': None}, id='run-e5424164-a9a0-4ccd-a0d9-1afaf1c42929-0', usage_metadata={'input_tokens': 31, 'output_tokens': 19, 'total_tokens': 50, 'input_token_details': {'audio': 0, 'cache_read': 0}, 'output_token_details': {'audio': 0, 'reasoning': 0}})"
      ]
     },
     "execution_count": 3,
     "metadata": {},
     "output_type": "execute_result"
    }
   ],
   "source": [
    "from langchain_openai.chat_models import ChatOpenAI\n",
    "\n",
    "chat = ChatOpenAI()\n",
    "resposta = chat.invoke(prompt)\n",
    "resposta"
   ]
  },
  {
   "cell_type": "markdown",
   "id": "018b0692",
   "metadata": {},
   "source": [
    "### StrOutputParser"
   ]
  },
  {
   "cell_type": "code",
   "execution_count": 4,
   "id": "f592e445",
   "metadata": {},
   "outputs": [
    {
     "data": {
      "text/plain": [
       "'Olá! Meu nome é Asimo. Como posso ajudar você hoje?'"
      ]
     },
     "execution_count": 4,
     "metadata": {},
     "output_type": "execute_result"
    }
   ],
   "source": [
    "from langchain_core.output_parsers import StrOutputParser\n",
    "\n",
    "output_parser = StrOutputParser()\n",
    "output_parser.invoke(resposta)"
   ]
  },
  {
   "cell_type": "markdown",
   "id": "55b7f8c2",
   "metadata": {},
   "source": [
    "### Dando um spoiler de chains"
   ]
  },
  {
   "cell_type": "code",
   "execution_count": 5,
   "id": "92c426f0",
   "metadata": {},
   "outputs": [
    {
     "data": {
      "text/plain": [
       "'Meu nome é Asimo, o assistente engraçado! Como posso ajudar você hoje?'"
      ]
     },
     "execution_count": 5,
     "metadata": {},
     "output_type": "execute_result"
    }
   ],
   "source": [
    "chain = chat_template | chat | output_parser\n",
    "\n",
    "chain.invoke({'nome_assistente': 'Asimo', 'pergunta':'Qual o seu nome?'})"
   ]
  },
  {
   "cell_type": "markdown",
   "id": "29c2de24",
   "metadata": {},
   "source": [
    "## Estruturando saídas mais complexas - Pydantic"
   ]
  },
  {
   "cell_type": "markdown",
   "id": "b70561f1",
   "metadata": {},
   "source": [
    "### Utilizando .with_structured_output()\n",
    "\n",
    "\n",
    "Esta é a maneira mais fácil e confiável de obter saídas estruturadas. O método with_structured_output() é implementado para modelos que fornecem APIs nativas para estruturar saídas, como chamadas de ferramentas/funções ou modo JSON, e aproveita essas capacidades internamente.\n",
    "\n",
    "Este método recebe um esquema como entrada, que especifica os nomes, tipos e descrições dos atributos desejados na saída. Ele retorna um objeto similar a um Runnable, exceto que, em vez de gerar strings ou mensagens, produz objetos correspondentes ao esquema fornecido. O esquema pode ser especificado como uma classe TypedDict, um JSON Schema ou uma classe Pydantic."
   ]
  },
  {
   "cell_type": "code",
   "execution_count": 6,
   "id": "697295db",
   "metadata": {},
   "outputs": [
    {
     "data": {
      "text/plain": [
       "Piada(introducao='Por que os gatinhos são tão bons em matemática?', punchline='Porque eles têm múltiplos talentos!', avaliacao=8)"
      ]
     },
     "execution_count": 6,
     "metadata": {},
     "output_type": "execute_result"
    }
   ],
   "source": [
    "from typing import Optional\n",
    "from pydantic import BaseModel, Field\n",
    "\n",
    "class Piada(BaseModel):\n",
    "    \"\"\"Piada para contar ao usuário\"\"\"\n",
    "    introducao: str = Field(description='A introdução da piada')\n",
    "    punchline: str = Field(description='A conclusão da piada')\n",
    "    avaliacao: Optional[int] = Field(description='O quão engraçada é a piada de 1 a 10')\n",
    "\n",
    "llm_estruturada = chat.with_structured_output(Piada)\n",
    "resposta = llm_estruturada.invoke('Conte uma piada sobre gatinhos')\n",
    "resposta"
   ]
  },
  {
   "cell_type": "code",
   "execution_count": 7,
   "id": "82349a46",
   "metadata": {},
   "outputs": [
    {
     "data": {
      "text/plain": [
       "str"
      ]
     },
     "execution_count": 7,
     "metadata": {},
     "output_type": "execute_result"
    }
   ],
   "source": [
    "type(resposta.punchline)"
   ]
  },
  {
   "cell_type": "markdown",
   "id": "a75a8f16",
   "metadata": {},
   "source": [
    "### Um exemplo mais prático"
   ]
  },
  {
   "attachments": {},
   "cell_type": "markdown",
   "id": "ce3864c4",
   "metadata": {},
   "source": [
    "Digamos que temos a seguinte review de um produto:\n",
    "\n",
    "> \"Este soprador de folhas é bastante incrível. Ele tem quatro configurações: sopro de vela, brisa suave, cidade ventosa e tornado. Chegou em dois dias, bem a tempo para o presente de aniversário da minha esposa. Acho que minha esposa gostou tanto que ficou sem palavras. Até agora, fui o único a usá-lo, e tenho usado em todas as manhãs alternadas para limpar as folhas do nosso gramado. É um pouco mais caro do que os outros sopradores de folhas disponíveis no mercado, mas acho que vale a pena pelas características extras.\"\n",
    "\n",
    "E eu quero que o modelo de linguagem processe esta review para estruturá-la no seguinte formato:\n",
    "\n",
    "```json\n",
    "{\n",
    "  \"presente\": true,\n",
    "  \"dias_entrega\": 2,\n",
    "  \"percepcao_de_valor\": [\"um pouco mais caro do que os outros sopradores de folhas disponíveis no mercado\"]\n",
    "}\n",
    "\n",
    "```\n",
    "\n"
   ]
  },
  {
   "cell_type": "code",
   "execution_count": 8,
   "id": "c8cb7041",
   "metadata": {},
   "outputs": [],
   "source": [
    "review_cliente = \"\"\"Este soprador de folhas é bastante incrível. Ele tem \n",
    "quatro configurações: sopro de vela, brisa suave, cidade ventosa \n",
    "e tornado. Chegou em dois dias, bem a tempo para o presente de \n",
    "aniversário da minha esposa. Acho que minha esposa gostou tanto \n",
    "que ficou sem palavras. Até agora, fui o único a usá-lo, e tenho \n",
    "usado em todas as manhãs alternadas para limpar as folhas do \n",
    "nosso gramado. É um pouco mais caro do que os outros sopradores \n",
    "de folhas disponíveis no mercado, mas acho que vale a pena pelas \n",
    "características extras.\"\"\"\n"
   ]
  },
  {
   "cell_type": "code",
   "execution_count": 9,
   "id": "83349f81",
   "metadata": {},
   "outputs": [
    {
     "data": {
      "text/plain": [
       "AvaliacaoReview(presente=True, dias_entrega=2, percepcao_valor=['um pouco mais caro do que os outros sopradores de folhas disponíveis no mercado', 'vale a pena pelas características extras'])"
      ]
     },
     "execution_count": 9,
     "metadata": {},
     "output_type": "execute_result"
    }
   ],
   "source": [
    "from pydantic import BaseModel, Field\n",
    "\n",
    "class AvaliacaoReview(BaseModel):\n",
    "    \"\"\"Avalia review do cliente\"\"\"\n",
    "    presente: bool = Field(description='Verdadeiro se foi para presente e False se não foi')\n",
    "    dias_entrega: int = Field(description='Quantos dias para entrega do produto')\n",
    "    percepcao_valor: list[str] = Field(description='Extraia qualquer frase sobre o valor ou \\\n",
    "    preço do produto. Retorne uma lista.')\n",
    "\n",
    "llm_estruturada = chat.with_structured_output(AvaliacaoReview)\n",
    "resposta = llm_estruturada.invoke(review_cliente)\n",
    "resposta"
   ]
  },
  {
   "cell_type": "code",
   "execution_count": 10,
   "id": "efd0688b",
   "metadata": {},
   "outputs": [
    {
     "data": {
      "text/plain": [
       "True"
      ]
     },
     "execution_count": 10,
     "metadata": {},
     "output_type": "execute_result"
    }
   ],
   "source": [
    "resposta.presente"
   ]
  },
  {
   "cell_type": "code",
   "execution_count": 11,
   "id": "6725b1e9",
   "metadata": {},
   "outputs": [
    {
     "data": {
      "text/plain": [
       "2"
      ]
     },
     "execution_count": 11,
     "metadata": {},
     "output_type": "execute_result"
    }
   ],
   "source": [
    "resposta.dias_entrega"
   ]
  },
  {
   "cell_type": "code",
   "execution_count": 12,
   "id": "bc18bd32",
   "metadata": {},
   "outputs": [
    {
     "data": {
      "text/plain": [
       "['um pouco mais caro do que os outros sopradores de folhas disponíveis no mercado',\n",
       " 'vale a pena pelas características extras']"
      ]
     },
     "execution_count": 12,
     "metadata": {},
     "output_type": "execute_result"
    }
   ],
   "source": [
    "resposta.percepcao_valor"
   ]
  },
  {
   "cell_type": "code",
   "execution_count": null,
   "id": "3ab32a32",
   "metadata": {},
   "outputs": [],
   "source": []
  }
 ],
 "metadata": {
  "kernelspec": {
   "display_name": ".venv",
   "language": "python",
   "name": "python3"
  },
  "language_info": {
   "codemirror_mode": {
    "name": "ipython",
    "version": 3
   },
   "file_extension": ".py",
   "mimetype": "text/x-python",
   "name": "python",
   "nbconvert_exporter": "python",
   "pygments_lexer": "ipython3",
   "version": "3.13.0"
  }
 },
 "nbformat": 4,
 "nbformat_minor": 5
}
