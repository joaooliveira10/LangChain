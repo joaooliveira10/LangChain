{
 "cells": [
  {
   "attachments": {},
   "cell_type": "markdown",
   "id": "13d7fc40",
   "metadata": {},
   "source": [
    "# DocumentLoaders"
   ]
  },
  {
   "attachments": {},
   "cell_type": "markdown",
   "id": "2c9ad58d",
   "metadata": {},
   "source": [
    "### Tipos de Document Loaders no Langchain\n",
    "\n",
    "![Document loaders](arquivos/loaders.png)"
   ]
  },
  {
   "attachments": {},
   "cell_type": "markdown",
   "id": "861913aa",
   "metadata": {},
   "source": [
    "## Carregando PDFs"
   ]
  },
  {
   "cell_type": "code",
   "execution_count": null,
   "id": "3deaf58e",
   "metadata": {},
   "outputs": [],
   "source": [
    "from langchain_community.document_loaders.pdf import PyPDFLoader\n",
    "\n",
    "caminho = 'arquivos/Explorando o Universo das IAs com Hugging Face.pdf'\n",
    "loader = PyPDFLoader(caminho)\n",
    "documentos = loader.load()"
   ]
  },
  {
   "cell_type": "code",
   "execution_count": null,
   "id": "7d0125ff",
   "metadata": {},
   "outputs": [],
   "source": [
    "len(documentos)"
   ]
  },
  {
   "cell_type": "code",
   "execution_count": null,
   "id": "fa5c4e29",
   "metadata": {},
   "outputs": [],
   "source": [
    "print(documentos[3].page_content)"
   ]
  },
  {
   "cell_type": "code",
   "execution_count": null,
   "id": "a6ec80aa",
   "metadata": {},
   "outputs": [],
   "source": [
    "documentos[3].metadata"
   ]
  },
  {
   "attachments": {},
   "cell_type": "markdown",
   "id": "d23a2a8e",
   "metadata": {},
   "source": [
    "### Fazendo perguntas para o arquivo"
   ]
  },
  {
   "cell_type": "code",
   "execution_count": null,
   "id": "372a461c",
   "metadata": {},
   "outputs": [],
   "source": [
    "from langchain.chains.question_answering import load_qa_chain\n",
    "from langchain_openai.chat_models import ChatOpenAI\n",
    "\n",
    "chat = ChatOpenAI(model='gpt-3.5-turbo-0125')\n",
    "\n",
    "chain = load_qa_chain(llm=chat, chain_type='stuff', verbose=True)"
   ]
  },
  {
   "cell_type": "code",
   "execution_count": null,
   "id": "15e621c0",
   "metadata": {},
   "outputs": [],
   "source": [
    "pergunta = 'Quais assuntos são tratados no documento?'\n",
    "\n",
    "chain.run(input_documents=documentos[:10], question=pergunta)"
   ]
  },
  {
   "attachments": {},
   "cell_type": "markdown",
   "id": "ee7f9417",
   "metadata": {},
   "source": [
    "## Carregando csv"
   ]
  },
  {
   "cell_type": "code",
   "execution_count": null,
   "id": "849d5530",
   "metadata": {},
   "outputs": [],
   "source": [
    "from langchain_community.document_loaders.csv_loader import CSVLoader\n",
    "\n",
    "caminho = 'arquivos/Top 1000 IMDB movies.csv'\n",
    "loader = CSVLoader(caminho)\n",
    "documentos = loader.load()"
   ]
  },
  {
   "cell_type": "code",
   "execution_count": null,
   "id": "effdd5f2",
   "metadata": {},
   "outputs": [],
   "source": [
    "len(documentos)"
   ]
  },
  {
   "cell_type": "code",
   "execution_count": null,
   "id": "f67c335d",
   "metadata": {},
   "outputs": [],
   "source": [
    "print(documentos[2].page_content)"
   ]
  },
  {
   "cell_type": "code",
   "execution_count": null,
   "id": "9a9b1c06",
   "metadata": {},
   "outputs": [],
   "source": [
    "documentos[2].metadata"
   ]
  },
  {
   "cell_type": "code",
   "execution_count": null,
   "id": "1e1d0ea9",
   "metadata": {},
   "outputs": [],
   "source": [
    "from langchain.chains.question_answering import load_qa_chain\n",
    "from langchain_openai.chat_models import ChatOpenAI\n",
    "\n",
    "chat = ChatOpenAI(model='gpt-3.5-turbo-0125')\n",
    "\n",
    "chain = load_qa_chain(llm=chat, chain_type='stuff', verbose=True)"
   ]
  },
  {
   "cell_type": "code",
   "execution_count": null,
   "id": "50098f9c",
   "metadata": {},
   "outputs": [],
   "source": [
    "pergunta = 'Qual é o filme com maior metascore?'\n",
    "chain.run(input_documents=documentos[:10], question=pergunta)"
   ]
  },
  {
   "attachments": {},
   "cell_type": "markdown",
   "id": "06d854ec",
   "metadata": {},
   "source": [
    "## Carregando da Internet"
   ]
  },
  {
   "attachments": {},
   "cell_type": "markdown",
   "id": "93ae3438",
   "metadata": {},
   "source": [
    "### Youtube"
   ]
  },
  {
   "cell_type": "code",
   "execution_count": null,
   "id": "69743477",
   "metadata": {},
   "outputs": [],
   "source": [
    "from langchain_community.document_loaders.generic import GenericLoader\n",
    "from langchain_community.document_loaders.blob_loaders.youtube_audio import YoutubeAudioLoader\n",
    "from langchain.document_loaders.parsers import OpenAIWhisperParser"
   ]
  },
  {
   "cell_type": "code",
   "execution_count": null,
   "id": "908b3075",
   "metadata": {},
   "outputs": [],
   "source": [
    "url = 'https://www.youtube.com/watch?v=rOjusRRO1EI'\n",
    "save_dir='docs/youtube/'\n",
    "loader = GenericLoader(\n",
    "    YoutubeAudioLoader([url], save_dir),\n",
    "    OpenAIWhisperParser()\n",
    ")\n",
    "docs = loader.load()"
   ]
  },
  {
   "cell_type": "code",
   "execution_count": null,
   "id": "5ae1bcbb",
   "metadata": {},
   "outputs": [],
   "source": [
    "len(docs)"
   ]
  },
  {
   "cell_type": "code",
   "execution_count": null,
   "id": "29ba50c6",
   "metadata": {},
   "outputs": [],
   "source": [
    "print(docs[0].page_content[:500])"
   ]
  },
  {
   "cell_type": "code",
   "execution_count": null,
   "id": "2ea4a0f9",
   "metadata": {},
   "outputs": [],
   "source": [
    "docs[1].metadata"
   ]
  },
  {
   "attachments": {},
   "cell_type": "markdown",
   "id": "2f07cd76",
   "metadata": {},
   "source": [
    "### URLs"
   ]
  },
  {
   "cell_type": "code",
   "execution_count": null,
   "id": "05dafde7",
   "metadata": {},
   "outputs": [],
   "source": [
    "from langchain_community.document_loaders.web_base import WebBaseLoader\n",
    "\n",
    "url = 'https://hub.asimov.academy/blog/listas-em-python/'\n",
    "loader = WebBaseLoader(url)\n",
    "documentos = loader.load()"
   ]
  },
  {
   "cell_type": "code",
   "execution_count": null,
   "id": "8898ea57",
   "metadata": {},
   "outputs": [],
   "source": [
    "len(documentos)"
   ]
  },
  {
   "cell_type": "code",
   "execution_count": null,
   "id": "05049277",
   "metadata": {},
   "outputs": [],
   "source": [
    "print(documentos[0].page_content[1000:2000])"
   ]
  },
  {
   "attachments": {},
   "cell_type": "markdown",
   "id": "0d1eba9a",
   "metadata": {},
   "source": [
    "## Carregando do Notion"
   ]
  },
  {
   "cell_type": "code",
   "execution_count": null,
   "id": "9caae13b",
   "metadata": {},
   "outputs": [],
   "source": [
    "from langchain_community.document_loaders.notion import NotionDirectoryLoader\n",
    "caminho = 'arquivos/notion_db'\n",
    "loader = NotionDirectoryLoader(caminho)\n",
    "documentos = loader.load()"
   ]
  },
  {
   "cell_type": "code",
   "execution_count": null,
   "id": "3ec22a60",
   "metadata": {},
   "outputs": [],
   "source": [
    "len(documentos)"
   ]
  },
  {
   "cell_type": "code",
   "execution_count": null,
   "id": "ddb2ab50",
   "metadata": {},
   "outputs": [],
   "source": [
    "print(documentos[0].page_content)"
   ]
  },
  {
   "cell_type": "code",
   "execution_count": null,
   "id": "5bb0adfe",
   "metadata": {},
   "outputs": [],
   "source": [
    "documentos[2].metadata"
   ]
  }
 ],
 "metadata": {
  "kernelspec": {
   "display_name": ".venv",
   "language": "python",
   "name": "python3"
  },
  "language_info": {
   "codemirror_mode": {
    "name": "ipython",
    "version": 3
   },
   "file_extension": ".py",
   "mimetype": "text/x-python",
   "name": "python",
   "nbconvert_exporter": "python",
   "pygments_lexer": "ipython3",
   "version": "3.11.9"
  }
 },
 "nbformat": 4,
 "nbformat_minor": 5
}
