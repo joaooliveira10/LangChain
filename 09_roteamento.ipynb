{
 "cells": [
  {
   "cell_type": "markdown",
   "metadata": {},
   "source": [
    "# Roteamento"
   ]
  },
  {
   "cell_type": "code",
   "execution_count": 1,
   "metadata": {},
   "outputs": [],
   "source": [
    "from langchain_openai import ChatOpenAI\n",
    "from langchain_core.prompts import ChatPromptTemplate\n",
    "\n",
    "model = ChatOpenAI(model='gpt-4o-mini')\n",
    "\n",
    "prompt = ChatPromptTemplate.from_template('''Você é um professor de matemática de ensino fundamental\n",
    "capaz de dar respostas muito detalhadas e didáticas. Responda a seguinte pergunta de um aluno:\n",
    "Pergunta: {pergunta}''')\n",
    "chain_matematica = prompt | model\n",
    "\n",
    "prompt = ChatPromptTemplate.from_template('''Você é um professor de física de ensino fundamental\n",
    "capaz de dar respostas muito detalhadas e didáticas. Responda a seguinte pergunta de um aluno:\n",
    "Pergunta: {pergunta}''')\n",
    "chain_fisica = prompt | model\n",
    "\n",
    "prompt = ChatPromptTemplate.from_template('''Você é um professor de história de ensino fundamental\n",
    "capaz de dar respostas muito detalhadas e didáticas. Responda a seguinte pergunta de um aluno:\n",
    "Pergunta: {pergunta}''')\n",
    "chain_historia = prompt | model\n",
    "\n",
    "prompt = ChatPromptTemplate.from_template('''{pergunta}''')\n",
    "chain_generica = prompt | model"
   ]
  },
  {
   "cell_type": "code",
   "execution_count": 2,
   "metadata": {},
   "outputs": [
    {
     "data": {
      "text/plain": [
       "Categorizador(area_conhecimento='história')"
      ]
     },
     "execution_count": 2,
     "metadata": {},
     "output_type": "execute_result"
    }
   ],
   "source": [
    "from pydantic import BaseModel, Field\n",
    "\n",
    "prompt = ChatPromptTemplate.from_template('Você deve categorizar a seguinte pergunta: {pergunta}')\n",
    "\n",
    "class Categorizador(BaseModel):\n",
    "    \"\"\"Categoriza as perguntas de alunos do ensino fundamental\"\"\"\n",
    "    area_conhecimento: str = Field(description='A área de conhecimento da pergunta feita pelo aluno. \\\n",
    "    Deve ser \"física\", \"matemática\" ou \"história\". Caso não se encaixe em nenhuma delas, retorne \"outra\"')\n",
    "\n",
    "model_estruturado = prompt | model.with_structured_output(Categorizador)\n",
    "model_estruturado.invoke({'pergunta': 'Quando foi a inependencia dos estados unidos?'})"
   ]
  },
  {
   "cell_type": "markdown",
   "metadata": {},
   "source": [
    "### Criando estrutura de roteamento"
   ]
  },
  {
   "cell_type": "code",
   "execution_count": 3,
   "metadata": {},
   "outputs": [
    {
     "data": {
      "text/plain": [
       "{'pergunta': 'Quando foi a inependencia dos estados unidos?',\n",
       " 'categoria': Categorizador(area_conhecimento='história')}"
      ]
     },
     "execution_count": 3,
     "metadata": {},
     "output_type": "execute_result"
    }
   ],
   "source": [
    "from langchain_core.runnables import RunnablePassthrough\n",
    "\n",
    "chain = RunnablePassthrough().assign(categoria=model_estruturado)\n",
    "chain.invoke({'pergunta': 'Quando foi a inependencia dos estados unidos?'})"
   ]
  },
  {
   "cell_type": "code",
   "execution_count": 4,
   "metadata": {},
   "outputs": [],
   "source": [
    "def route(input):\n",
    "    if input['categoria'].area_conhecimento == 'matemática':\n",
    "        return chain_matematica\n",
    "    if input['categoria'].area_conhecimento == 'física':\n",
    "        return chain_fisica\n",
    "    if input['categoria'].area_conhecimento == 'história':\n",
    "        return chain_historia\n",
    "    return chain_generica"
   ]
  },
  {
   "cell_type": "code",
   "execution_count": 5,
   "metadata": {},
   "outputs": [
    {
     "data": {
      "text/plain": [
       "AIMessage(content='A Independência dos Estados Unidos foi proclamada no dia 4 de julho de 1776. Para entender esse importante evento histórico, vamos dar uma olhada no contexto e nas razões que levaram à independência, assim como suas consequências.\\n\\n### Contexto Histórico\\n\\nDurante o século XVIII, as Treze Colônias britânicas na América do Norte estavam sob o domínio do Reino Unido. Essas colônias eram, na maioria, bastante prósperas e tinham desenvolvido uma certa autonomia ao longo dos anos. No entanto, a relação entre as colônias e a Grã-Bretanha começou a se deteriorar por várias razões:\\n\\n1. **Impostos Elevados**: Após a Guerra dos Sete Anos (1756-1763), a Grã-Bretanha estava endividada e decidiu aumentar os impostos nas colônias para arrecadar dinheiro. A famosa frase \"sem impostos sem representação\" reflete a insatisfação dos colonos, que não tinham representantes no Parlamento britânico.\\n\\n2. **Leis e Restrições**: O governo britânico impôs várias leis e regulamentações que limitavam o comércio e a liberdade das colônias. Um exemplo disso foi a Lei do Selo (Stamp Act) de 1765, que exigia que documentos legais, jornais e outros itens fossem impressos em papel com um selo especial, o que gerou grande revolta.\\n\\n3. **Protestos e Conflitos**: Os colonos começaram a se organizar e protestar contra as políticas britânicas. Isso culminou em eventos como o Boston Tea Party em 1773, onde colonos, em protesto contra o imposto sobre o chá, jogaram carregamentos de chá britânico no porto de Boston.\\n\\n### A Proclamação da Independência\\n\\nCom o aumento da tensão entre as colônias e o governo britânico, as colônias começaram a se unir. Em 1775, a Guerra da Independência começou, com batalhas em Lexington e Concord. Era claro que a luta pela autonomia estava se intensificando.\\n\\nEm 1776, o Segundo Congresso Continental se reuniu e decidiu que era hora de declarar a independência. A redação do documento ficou a cargo de Thomas Jefferson, que foi influenciado por ideias iluministas sobre liberdade e direitos individuais. No dia 4 de julho de 1776, a Declaração da Independência foi adotada e proclamada, afirmando que as colônias se tornavam Estados livres e independentes.\\n\\n### Consequências\\n\\nA declaração de independência teve várias consequências importantes:\\n\\n1. **Guerra da Independência**: A partir de 1776, a guerra entre os colonos e as forças britânicas se intensificou. A guerra durou até 1783, quando o Tratado de Paris foi assinado, reconhecendo a independência dos Estados Unidos.\\n\\n2. **Formação de um Novo País**: Após a guerra, os Estados Unidos começaram a se organizar como uma nova nação. Em 1787, foi criada a Constituição dos Estados Unidos, estabelecendo um governo baseado em princípios democráticos.\\n\\n3. **Influência Global**: A independência dos Estados Unidos inspirou outros movimentos de independência e revoluções ao redor do mundo, mostrando que era possível lutar contra a opressão e conquistar a liberdade.\\n\\n### Conclusão\\n\\nPortanto, a Independência dos Estados Unidos, proclamada em 4 de julho de 1776, foi um marco importante na história mundial, representando a luta por liberdade e autodeterminação. Este evento não apenas transformou a vida dos colonos americanos, mas também teve um impacto duradouro em diversos países e movimentos ao redor do mundo. A data é celebrada anualmente nos Estados Unidos como o Dia da Independência, com festas, fogos de artifício e desfiles.', additional_kwargs={'refusal': None}, response_metadata={'token_usage': {'completion_tokens': 797, 'prompt_tokens': 52, 'total_tokens': 849, 'completion_tokens_details': {'accepted_prediction_tokens': 0, 'audio_tokens': 0, 'reasoning_tokens': 0, 'rejected_prediction_tokens': 0}, 'prompt_tokens_details': {'audio_tokens': 0, 'cached_tokens': 0}}, 'model_name': 'gpt-4o-mini-2024-07-18', 'system_fingerprint': 'fp_72ed7ab54c', 'finish_reason': 'stop', 'logprobs': None}, id='run-e1dc1e6f-a4a0-409b-ae1e-5379076ffdbf-0', usage_metadata={'input_tokens': 52, 'output_tokens': 797, 'total_tokens': 849, 'input_token_details': {'audio': 0, 'cache_read': 0}, 'output_token_details': {'audio': 0, 'reasoning': 0}})"
      ]
     },
     "execution_count": 5,
     "metadata": {},
     "output_type": "execute_result"
    }
   ],
   "source": [
    "chain = RunnablePassthrough().assign(categoria=model_estruturado) | route\n",
    "chain.invoke({'pergunta': 'Quando foi a inependencia dos estados unidos?'})"
   ]
  },
  {
   "cell_type": "code",
   "execution_count": 6,
   "metadata": {},
   "outputs": [
    {
     "data": {
      "text/plain": [
       "AIMessage(content='Claro! Vamos resolver a soma \\\\(1 + 21\\\\) de forma bem detalhada.\\n\\n### Passo 1: Compreender os números\\n- O número \\\\(1\\\\) é um número inteiro e representa uma unidade.\\n- O número \\\\(21\\\\) é também um número inteiro, e representa vinte e uma unidades.\\n\\n### Passo 2: Visualizar a soma\\nQuando somamos, estamos basicamente agrupando quantidades. Então, quando somamos \\\\(1 + 21\\\\), estamos juntando uma unidade a um grupo que já tem vinte e uma unidades.\\n\\n### Passo 3: Realizar a soma\\nAgora, vamos realizar a soma:\\n- Começamos com \\\\(21\\\\).\\n- Adicionamos \\\\(1\\\\) a \\\\(21\\\\).\\n\\n**Cálculo:**\\n\\\\[\\n21 + 1 = 22\\n\\\\]\\n\\n### Passo 4: Resultado final\\nPortanto, a soma de \\\\(1 + 21\\\\) é igual a \\\\(22\\\\).\\n\\n### Conclusão\\nAssim, podemos concluir que:\\n\\\\[\\n1 + 21 = 22\\n\\\\]\\n\\nSe você tiver mais alguma dúvida ou outra pergunta sobre matemática, fique à vontade para perguntar!', additional_kwargs={'refusal': None}, response_metadata={'token_usage': {'completion_tokens': 247, 'prompt_tokens': 50, 'total_tokens': 297, 'completion_tokens_details': {'accepted_prediction_tokens': 0, 'audio_tokens': 0, 'reasoning_tokens': 0, 'rejected_prediction_tokens': 0}, 'prompt_tokens_details': {'audio_tokens': 0, 'cached_tokens': 0}}, 'model_name': 'gpt-4o-mini-2024-07-18', 'system_fingerprint': 'fp_72ed7ab54c', 'finish_reason': 'stop', 'logprobs': None}, id='run-1156deb4-0c98-4fd1-ba2b-85a6851e784e-0', usage_metadata={'input_tokens': 50, 'output_tokens': 247, 'total_tokens': 297, 'input_token_details': {'audio': 0, 'cache_read': 0}, 'output_token_details': {'audio': 0, 'reasoning': 0}})"
      ]
     },
     "execution_count": 6,
     "metadata": {},
     "output_type": "execute_result"
    }
   ],
   "source": [
    "chain.invoke({'pergunta': 'Quanto é 1 + 21?'})"
   ]
  },
  {
   "cell_type": "code",
   "execution_count": null,
   "metadata": {},
   "outputs": [],
   "source": []
  },
  {
   "cell_type": "code",
   "execution_count": null,
   "metadata": {},
   "outputs": [],
   "source": []
  }
 ],
 "metadata": {
  "kernelspec": {
   "display_name": ".venv",
   "language": "python",
   "name": "python3"
  },
  "language_info": {
   "codemirror_mode": {
    "name": "ipython",
    "version": 3
   },
   "file_extension": ".py",
   "mimetype": "text/x-python",
   "name": "python",
   "nbconvert_exporter": "python",
   "pygments_lexer": "ipython3",
   "version": "3.11.9"
  }
 },
 "nbformat": 4,
 "nbformat_minor": 2
}
