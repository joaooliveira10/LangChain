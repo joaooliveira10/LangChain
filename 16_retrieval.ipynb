{
 "cells": [
  {
   "attachments": {},
   "cell_type": "markdown",
   "id": "13d7fc40",
   "metadata": {},
   "source": [
    "# Retrieval"
   ]
  },
  {
   "cell_type": "code",
   "execution_count": null,
   "id": "319493c5",
   "metadata": {},
   "outputs": [],
   "source": [
    "from langchain_community.document_loaders.pdf import PyPDFLoader\n",
    "from langchain_text_splitters import RecursiveCharacterTextSplitter"
   ]
  },
  {
   "cell_type": "code",
   "execution_count": null,
   "id": "b1cd506c",
   "metadata": {},
   "outputs": [],
   "source": [
    "caminhos = [\n",
    "    \"arquivos/Explorando o Universo das IAs com Hugging Face.pdf\",\n",
    "    \"arquivos/Explorando a API da OpenAI.pdf\",\n",
    "    \"arquivos/Explorando a API da OpenAI.pdf\",\n",
    "    ]\n",
    "\n",
    "paginas = []\n",
    "\n",
    "for caminho in caminhos:\n",
    "    loader = PyPDFLoader(caminho)\n",
    "    paginas.extend(loader.load())\n",
    "\n",
    "recur_split = RecursiveCharacterTextSplitter(\n",
    "    chunk_size=500,\n",
    "    chunk_overlap=50,\n",
    "    separators=[\"\\n\\n\", \"\\n\", \".\", \" \", \"\"]\n",
    ")\n",
    "\n",
    "documents = recur_split.split_documents(paginas)"
   ]
  },
  {
   "attachments": {},
   "cell_type": "markdown",
   "id": "89bb64c5",
   "metadata": {},
   "source": [
    "### Modificando metadata"
   ]
  },
  {
   "cell_type": "code",
   "execution_count": null,
   "id": "fadef36c",
   "metadata": {},
   "outputs": [],
   "source": [
    "for i, doc in enumerate(documents):\n",
    "    doc.metadata['source'] = doc.metadata['source'].replace('arquivos/', '')\n",
    "    doc.metadata['doc_id'] = i"
   ]
  },
  {
   "cell_type": "code",
   "execution_count": null,
   "id": "841d2eab",
   "metadata": {},
   "outputs": [],
   "source": [
    "documents[2].metadata"
   ]
  },
  {
   "cell_type": "code",
   "execution_count": null,
   "id": "af7383b2",
   "metadata": {},
   "outputs": [],
   "source": [
    "# __import__('pysqlite3')\n",
    "# import sys\n",
    "# sys.modules['sqlite3'] = sys.modules.pop('pysqlite3')\n",
    "\n",
    "from langchain_openai import OpenAIEmbeddings\n",
    "from langchain_community.vectorstores.chroma import Chroma\n",
    "\n",
    "embeddings_model = OpenAIEmbeddings()"
   ]
  },
  {
   "cell_type": "markdown",
   "id": "04f3a5e0",
   "metadata": {},
   "source": [
    "### Criando VectorStore"
   ]
  },
  {
   "cell_type": "code",
   "execution_count": null,
   "id": "9d9fb7be",
   "metadata": {},
   "outputs": [],
   "source": [
    "diretorio = 'arquivos/chroma_retrival_bd'\n",
    "\n",
    "vectordb = Chroma.from_documents(\n",
    "    documents=documents,\n",
    "    embedding=embeddings_model,\n",
    "    persist_directory=diretorio\n",
    ")"
   ]
  },
  {
   "attachments": {},
   "cell_type": "markdown",
   "id": "e7389ce9",
   "metadata": {},
   "source": [
    "## Semantic Search"
   ]
  },
  {
   "cell_type": "code",
   "execution_count": null,
   "id": "b1150ebf",
   "metadata": {},
   "outputs": [],
   "source": [
    "pergunta = 'O que é a OpenAI?'\n",
    "\n",
    "docs = vectordb.similarity_search(pergunta, k=3)\n",
    "for doc in docs:\n",
    "    print(doc.page_content)\n",
    "    print(f'==========={doc.metadata}\\n\\n')\n"
   ]
  },
  {
   "cell_type": "markdown",
   "id": "01d6c64b",
   "metadata": {},
   "source": [
    "### Limitações do semantic search"
   ]
  },
  {
   "cell_type": "markdown",
   "id": "c94c98d0",
   "metadata": {},
   "source": [
    "#### Trechos com muito alta similaridade e pouca infomação adicional"
   ]
  },
  {
   "cell_type": "code",
   "execution_count": null,
   "id": "e144d4fa",
   "metadata": {},
   "outputs": [],
   "source": [
    "pergunta = 'O que é a OpenAI?'\n",
    "\n",
    "docs = vectordb.similarity_search(pergunta, k=3)\n",
    "for doc in docs:\n",
    "    print(doc.page_content)\n",
    "    print(f'==========={doc.metadata}\\n\\n')"
   ]
  },
  {
   "cell_type": "code",
   "execution_count": null,
   "id": "5c7a70cd",
   "metadata": {},
   "outputs": [],
   "source": [
    "pergunta = 'O que a apostila de Hugging Face fala sobre a OpenAI e o ChatGPT?'\n",
    "\n",
    "docs = vectordb.similarity_search(pergunta, k=3)\n",
    "for doc in docs:\n",
    "    print(doc.page_content)\n",
    "    print(f'==========={doc.metadata}\\n\\n')"
   ]
  },
  {
   "attachments": {},
   "cell_type": "markdown",
   "id": "04a7ee51",
   "metadata": {},
   "source": [
    "## MMR"
   ]
  },
  {
   "cell_type": "code",
   "execution_count": null,
   "id": "b06d0446",
   "metadata": {},
   "outputs": [],
   "source": [
    "pergunta = 'O que é a OpenAI?'\n",
    "\n",
    "docs = vectordb.max_marginal_relevance_search(pergunta, k=3, fetch_k=10)\n",
    "for doc in docs:\n",
    "    print(doc.page_content)\n",
    "    print(f'==========={doc.metadata}\\n\\n')"
   ]
  },
  {
   "attachments": {},
   "cell_type": "markdown",
   "id": "23825629",
   "metadata": {},
   "source": [
    "## Filtragem"
   ]
  },
  {
   "cell_type": "code",
   "execution_count": null,
   "id": "1fdc14d6",
   "metadata": {},
   "outputs": [],
   "source": [
    "pergunta = 'O que a apostila de Hugging Face fala sobre a OpenAI e o ChatGPT?'\n",
    "\n",
    "docs = vectordb.similarity_search(\n",
    "    pergunta, \n",
    "    k=3,\n",
    "    filter={'source': 'Explorando o Universo das IAs com Hugging Face.pdf'})\n",
    "for doc in docs:\n",
    "    print(doc.page_content)\n",
    "    print(f'==========={doc.metadata}\\n\\n')"
   ]
  },
  {
   "cell_type": "code",
   "execution_count": null,
   "id": "707cede1",
   "metadata": {},
   "outputs": [],
   "source": [
    "pergunta = 'O que a apostila de Hugging Face fala sobre a OpenAI e o ChatGPT?'\n",
    "\n",
    "docs = vectordb.similarity_search(\n",
    "    pergunta, \n",
    "    k=3,\n",
    "    filter={'source': {'$in': ['Explorando o Universo das IAs com Hugging Face.pdf']}})\n",
    "for doc in docs:\n",
    "    print(doc.page_content)\n",
    "    print(f'==========={doc.metadata}\\n\\n')"
   ]
  },
  {
   "cell_type": "code",
   "execution_count": null,
   "id": "4e002c08",
   "metadata": {},
   "outputs": [],
   "source": [
    "pergunta = 'O que a apostila de Hugging Face fala sobre a OpenAI e o ChatGPT?'\n",
    "\n",
    "docs = vectordb.similarity_search(\n",
    "    pergunta, \n",
    "    k=3,\n",
    "    filter={'$and':\n",
    "            [{'source': {'$in': ['Explorando o Universo das IAs com Hugging Face.pdf']}},\n",
    "            {'page': {'$in': [10, 11, 12, 13]}}],\n",
    "            })\n",
    "for doc in docs:\n",
    "    print(doc.page_content)\n",
    "    print(f'==========={doc.metadata}\\n\\n')"
   ]
  },
  {
   "attachments": {},
   "cell_type": "markdown",
   "id": "880c8af2",
   "metadata": {},
   "source": [
    "## LLM Aided Retrieval"
   ]
  },
  {
   "cell_type": "code",
   "execution_count": null,
   "id": "fd9eefb1",
   "metadata": {},
   "outputs": [],
   "source": [
    "from langchain_openai.llms import OpenAI\n",
    "from langchain.retrievers.self_query.base import SelfQueryRetriever\n",
    "from langchain.chains.query_constructor.schema import AttributeInfo"
   ]
  },
  {
   "cell_type": "code",
   "execution_count": null,
   "id": "80182465",
   "metadata": {},
   "outputs": [],
   "source": [
    "metadata_info = [\n",
    "    AttributeInfo(\n",
    "        name='source',\n",
    "        description='Nome da apostila de onde o texto original foi retirado. Deve ter o valor de: \\\n",
    "            Explorando o Universo das IAs com Hugging Face.pdf ou Explorando a API da OpenAI.pdf',\n",
    "        type='string'\n",
    "    ),\n",
    "    AttributeInfo(\n",
    "        name='page',\n",
    "        description='A página da apostila de onde o texto se origina',\n",
    "        type='integer'\n",
    "    ),\n",
    "\n",
    "]"
   ]
  },
  {
   "cell_type": "code",
   "execution_count": null,
   "id": "93367f4e",
   "metadata": {},
   "outputs": [],
   "source": [
    "document_description = 'Apostilas de cursos'\n",
    "llm = OpenAI()\n",
    "retriever = SelfQueryRetriever.from_llm(\n",
    "    llm,\n",
    "    vectordb,\n",
    "    document_description,\n",
    "    metadata_info,\n",
    "    verbose=True\n",
    ")"
   ]
  },
  {
   "cell_type": "code",
   "execution_count": null,
   "id": "2559461f",
   "metadata": {},
   "outputs": [],
   "source": [
    "pergunta = 'O que a apostila de Hugging Face fala sobre a OpenAI e o ChatGPT?'\n",
    "\n",
    "docs = retriever.invoke(pergunta)\n",
    "for doc in docs:\n",
    "    print(doc.page_content)\n",
    "    print(f'==========={doc.metadata}\\n\\n')"
   ]
  },
  {
   "cell_type": "code",
   "execution_count": null,
   "id": "962c635a",
   "metadata": {},
   "outputs": [],
   "source": [
    "pergunta = 'Quais detalhes são descritos na página 44 da apostila Explorando a API da OpenAI?'\n",
    "\n",
    "docs = retriever.invoke(pergunta)\n",
    "for doc in docs:\n",
    "    print(doc.page_content)\n",
    "    print(f'==========={doc.metadata}\\n\\n')"
   ]
  },
  {
   "cell_type": "code",
   "execution_count": null,
   "id": "dd52eb7f",
   "metadata": {},
   "outputs": [],
   "source": [
    "from langchain.globals import set_debug\n",
    "\n",
    "set_debug(True)\n",
    "\n",
    "pergunta = 'Quais detalhes são descritos na página 44 da apostila Explorando a API da OpenAI?'\n",
    "\n",
    "docs = retriever.invoke(pergunta)\n",
    "for doc in docs:\n",
    "    print(doc.page_content)\n",
    "    print(f'==========={doc.metadata}\\n\\n')\n"
   ]
  },
  {
   "cell_type": "code",
   "execution_count": null,
   "id": "727b4573",
   "metadata": {},
   "outputs": [],
   "source": [
    "import json\n",
    "\n",
    "_json = '{\\n    \\\"query\\\": \\\"detalhes\\\",\\n    \\\"filter\\\": \\\"and(eq(\\\\\\\"source\\\\\\\", \\\\\\\"Explorando a API da OpenAI.pdf\\\\\\\"), eq(\\\\\\\"page\\\\\\\", 44))\\\"\\n}'\n",
    "print(json.dumps(json.loads(_json), indent=4))\n",
    "\n"
   ]
  },
  {
   "cell_type": "code",
   "execution_count": null,
   "id": "25cfe4ea",
   "metadata": {},
   "outputs": [],
   "source": []
  }
 ],
 "metadata": {
  "kernelspec": {
   "display_name": ".venv",
   "language": "python",
   "name": "python3"
  },
  "language_info": {
   "codemirror_mode": {
    "name": "ipython",
    "version": 3
   },
   "file_extension": ".py",
   "mimetype": "text/x-python",
   "name": "python",
   "nbconvert_exporter": "python",
   "pygments_lexer": "ipython3",
   "version": "3.13.0"
  }
 },
 "nbformat": 4,
 "nbformat_minor": 5
}
