{
 "cells": [
  {
   "attachments": {},
   "cell_type": "markdown",
   "id": "13d7fc40",
   "metadata": {},
   "source": [
    "# Embeddings"
   ]
  },
  {
   "attachments": {},
   "cell_type": "markdown",
   "id": "40fddf28",
   "metadata": {},
   "source": [
    "Os Embeddings criam uma representação vetorial de um pedaço de texto. Isso é útil porque significa que podemos pensar sobre o texto no espaço vetorial e fazer coisas como busca semântica, onde procuramos por pedaços de texto que são mais semelhantes no espaço vetorial, ou seja, que estão a uma distância menor.\n",
    "\n",
    "A classe Embeddings do Langchain é uma classe projetada para interagir com modelos de embedding de texto. Existem muitos modelos diferentes (OpenAI, Cohere, Hugging Face, etc) - esta classe é projetada para fornecer uma interface padrão para todos eles.\n",
    "\n",
    "A classe de Embeddings base em LangChain fornece dois métodos: um para realizar o emedding de documentos e outro para embedding de uma chamada. O primeiro recebe como entrada vários textos, enquanto o último recebe um único texto."
   ]
  },
  {
   "attachments": {},
   "cell_type": "markdown",
   "id": "1ecb96f8",
   "metadata": {},
   "source": [
    "https://python.langchain.com/docs/integrations/text_embedding/"
   ]
  },
  {
   "attachments": {},
   "cell_type": "markdown",
   "id": "b05996bd",
   "metadata": {},
   "source": [
    "https://platform.openai.com/docs/guides/embeddings"
   ]
  },
  {
   "attachments": {},
   "cell_type": "markdown",
   "id": "75b6dcb5",
   "metadata": {},
   "source": [
    "## Embeddings com OpenAI"
   ]
  },
  {
   "cell_type": "code",
   "execution_count": null,
   "id": "80c871d0",
   "metadata": {},
   "outputs": [],
   "source": [
    "from langchain_openai import OpenAIEmbeddings\n",
    "\n",
    "embedding_model = OpenAIEmbeddings(model='text-embedding-ada-002')"
   ]
  },
  {
   "attachments": {},
   "cell_type": "markdown",
   "id": "06928c56",
   "metadata": {},
   "source": [
    "### Embedding documents"
   ]
  },
  {
   "cell_type": "code",
   "execution_count": null,
   "id": "6bafa8a7",
   "metadata": {},
   "outputs": [],
   "source": [
    "embedings = embedding_model.embed_documents(\n",
    "    [\n",
    "        'Eu gosto de cochorros',\n",
    "        'Eu gosto de animais',\n",
    "        'O tempo está ruim lá fora'\n",
    "    ]\n",
    ")"
   ]
  },
  {
   "cell_type": "code",
   "execution_count": null,
   "id": "664d424d",
   "metadata": {},
   "outputs": [],
   "source": [
    "len(embedings)"
   ]
  },
  {
   "cell_type": "code",
   "execution_count": null,
   "id": "96a5a244",
   "metadata": {},
   "outputs": [],
   "source": [
    "embedings[0][:10]"
   ]
  },
  {
   "cell_type": "code",
   "execution_count": null,
   "id": "7a60d2dc",
   "metadata": {},
   "outputs": [],
   "source": [
    "len(embedings[0])"
   ]
  },
  {
   "cell_type": "code",
   "execution_count": null,
   "id": "1e4c4f9e",
   "metadata": {},
   "outputs": [],
   "source": [
    "len(embedings[1])"
   ]
  },
  {
   "cell_type": "code",
   "execution_count": null,
   "id": "74263176",
   "metadata": {},
   "outputs": [],
   "source": [
    "len(embedings[2])"
   ]
  },
  {
   "cell_type": "code",
   "execution_count": null,
   "id": "f8685d00",
   "metadata": {},
   "outputs": [],
   "source": [
    "for emb in embedings:\n",
    "    print(len(emb), max(emb), min(emb))"
   ]
  },
  {
   "cell_type": "code",
   "execution_count": null,
   "id": "c223c440",
   "metadata": {},
   "outputs": [],
   "source": [
    "import numpy as np\n",
    "\n",
    "np.dot(embedings[0], embedings[1])\n"
   ]
  },
  {
   "cell_type": "code",
   "execution_count": null,
   "id": "f86f6a57",
   "metadata": {},
   "outputs": [],
   "source": [
    "import numpy as np\n",
    "\n",
    "np.dot(embedings[0], embedings[2])"
   ]
  },
  {
   "cell_type": "code",
   "execution_count": null,
   "id": "12de8719",
   "metadata": {},
   "outputs": [],
   "source": [
    "import numpy as np\n",
    "\n",
    "np.dot(embedings[1], embedings[2])"
   ]
  },
  {
   "cell_type": "code",
   "execution_count": null,
   "id": "681365b7",
   "metadata": {},
   "outputs": [],
   "source": [
    "for i in range(len(embedings)):\n",
    "    for j in range(len(embedings)):\n",
    "        print(round(np.dot(embedings[i], embedings[j]), 2), end=' | ')\n",
    "    print()"
   ]
  },
  {
   "attachments": {},
   "cell_type": "markdown",
   "id": "c7302fad",
   "metadata": {},
   "source": [
    "### Embedding query"
   ]
  },
  {
   "cell_type": "code",
   "execution_count": null,
   "id": "10f6ef1c",
   "metadata": {},
   "outputs": [],
   "source": [
    "pergunta = 'O que é um cachorro'\n",
    "emb_query = embedding_model.embed_query(pergunta)\n",
    "emb_query[:10]"
   ]
  },
  {
   "attachments": {},
   "cell_type": "markdown",
   "id": "e82ced4a",
   "metadata": {},
   "source": [
    "## Embedding com HuggingFace"
   ]
  },
  {
   "attachments": {},
   "cell_type": "markdown",
   "id": "ad11d8d7",
   "metadata": {},
   "source": [
    "https://huggingface.co/models?pipeline_tag=sentence-similarity&sort=trending"
   ]
  },
  {
   "cell_type": "code",
   "execution_count": null,
   "id": "d73f5941",
   "metadata": {},
   "outputs": [],
   "source": [
    "from langchain_huggingface.embeddings.huggingface import HuggingFaceEmbeddings  # Atualizando importação!\n",
    "\n",
    "model = 'all-MiniLM-L6-v2'\n",
    "embedding_model = HuggingFaceEmbeddings(model_name = model)  # Atualizando classe importada!"
   ]
  },
  {
   "cell_type": "code",
   "execution_count": null,
   "id": "af3726eb",
   "metadata": {},
   "outputs": [],
   "source": [
    "embedings = embedding_model.embed_documents(\n",
    "    [\n",
    "        'Eu gosto de cochorros',\n",
    "        'Eu gosto de animais',\n",
    "        'O tempo está ruim lá fora'\n",
    "    ]\n",
    ")"
   ]
  },
  {
   "cell_type": "code",
   "execution_count": null,
   "id": "38518b71",
   "metadata": {},
   "outputs": [],
   "source": [
    "import numpy as np\n",
    "\n",
    "for i in range(len(embedings)):\n",
    "    for j in range(len(embedings)):\n",
    "        print(round(np.dot(embedings[i], embedings[j]), 2), end=' | ')\n",
    "    print()"
   ]
  },
  {
   "cell_type": "code",
   "execution_count": null,
   "id": "cfd4c390",
   "metadata": {},
   "outputs": [],
   "source": [
    "for emb in embedings:\n",
    "    print(len(emb), max(emb), min(emb))"
   ]
  },
  {
   "cell_type": "code",
   "execution_count": null,
   "id": "0db7d9d4",
   "metadata": {},
   "outputs": [],
   "source": []
  }
 ],
 "metadata": {
  "kernelspec": {
   "display_name": ".venv",
   "language": "python",
   "name": "python3"
  },
  "language_info": {
   "codemirror_mode": {
    "name": "ipython",
    "version": 3
   },
   "file_extension": ".py",
   "mimetype": "text/x-python",
   "name": "python",
   "nbconvert_exporter": "python",
   "pygments_lexer": "ipython3",
   "version": "3.13.0"
  }
 },
 "nbformat": 4,
 "nbformat_minor": 5
}
