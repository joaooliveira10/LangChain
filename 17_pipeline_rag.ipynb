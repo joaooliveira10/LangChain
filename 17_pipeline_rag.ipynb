{
 "cells": [
  {
   "attachments": {},
   "cell_type": "markdown",
   "id": "13d7fc40",
   "metadata": {},
   "source": [
    "# Conversando com os dados"
   ]
  },
  {
   "cell_type": "code",
   "execution_count": null,
   "id": "319493c5",
   "metadata": {},
   "outputs": [],
   "source": [
    "# __import__('pysqlite3')\n",
    "# import sys\n",
    "# sys.modules['sqlite3'] = sys.modules.pop('pysqlite3')\n",
    "\n",
    "from langchain_openai import OpenAIEmbeddings\n",
    "from langchain_community.vectorstores.faiss import FAISS\n",
    "\n",
    "from langchain_community.document_loaders.pdf import PyPDFLoader\n",
    "from langchain_text_splitters import RecursiveCharacterTextSplitter"
   ]
  },
  {
   "cell_type": "code",
   "execution_count": null,
   "id": "b1cd506c",
   "metadata": {},
   "outputs": [],
   "source": [
    "caminhos = [\n",
    "    \"arquivos/Explorando a API da OpenAI.pdf\",\n",
    "    ]\n",
    "\n",
    "paginas = []\n",
    "for caminho in caminhos:\n",
    "    loader = PyPDFLoader(caminho)\n",
    "    paginas.extend(loader.load())\n",
    "\n",
    "recur_split = RecursiveCharacterTextSplitter(\n",
    "    chunk_size=1000,\n",
    "    chunk_overlap=100,\n",
    "    separators=[\"\\n\\n\", \"\\n\", \".\", \" \", \"\"]\n",
    ")\n",
    "\n",
    "documents = recur_split.split_documents(paginas)\n",
    "\n",
    "for i, doc in enumerate(documents):\n",
    "    doc.metadata['source'] = doc.metadata['source'].replace('arquivos/', '')\n",
    "    doc.metadata['doc_id'] = i"
   ]
  },
  {
   "cell_type": "code",
   "execution_count": null,
   "id": "9d9fb7be",
   "metadata": {},
   "outputs": [],
   "source": [
    "vectorstore = FAISS.from_documents(\n",
    "    documents=documents,\n",
    "    embedding=OpenAIEmbeddings()\n",
    ")"
   ]
  },
  {
   "attachments": {},
   "cell_type": "markdown",
   "id": "892e580f",
   "metadata": {},
   "source": [
    "## Criando estrutura de conversa"
   ]
  },
  {
   "cell_type": "code",
   "execution_count": null,
   "id": "887ad219",
   "metadata": {},
   "outputs": [],
   "source": [
    "from langchain_core.prompts import ChatPromptTemplate\n",
    "\n",
    "prompt = ChatPromptTemplate.from_template(\n",
    "    '''Responda as perguntas se baseando no contexto fornecido.\n",
    "    \n",
    "    contexto: {contexto}\n",
    "    \n",
    "    pergunta: {pergunta}''')"
   ]
  },
  {
   "cell_type": "code",
   "execution_count": null,
   "id": "2bf8935e",
   "metadata": {},
   "outputs": [],
   "source": [
    "from langchain_core.runnables import RunnableParallel, RunnablePassthrough\n",
    "\n",
    "\n",
    "retriever = vectorstore.as_retriever(search_type='mmr', search_kwargs={'k': 5, 'fetch_k': 25})\n",
    "setup = RunnableParallel({\n",
    "    'pergunta': RunnablePassthrough(),\n",
    "    'contexto': retriever\n",
    "})"
   ]
  },
  {
   "cell_type": "code",
   "execution_count": null,
   "id": "37354279",
   "metadata": {},
   "outputs": [],
   "source": [
    "input = setup.invoke('O que é a OpenAI?')\n",
    "input"
   ]
  },
  {
   "cell_type": "code",
   "execution_count": null,
   "id": "fbf473dd",
   "metadata": {},
   "outputs": [],
   "source": [
    "def join_documents(input):\n",
    "    input['contexto'] = '\\n\\n'.join([c.page_content for c in input['contexto']])\n",
    "    return input\n",
    "\n",
    "setup = RunnableParallel({\n",
    "    'pergunta': RunnablePassthrough(),\n",
    "    'contexto': retriever\n",
    "}) | join_documents"
   ]
  },
  {
   "cell_type": "code",
   "execution_count": null,
   "id": "29ef5adf",
   "metadata": {},
   "outputs": [],
   "source": [
    "input = setup.invoke('O que é a OpenAI?')\n",
    "print(input['contexto'])"
   ]
  },
  {
   "cell_type": "code",
   "execution_count": null,
   "id": "6913f724",
   "metadata": {},
   "outputs": [],
   "source": [
    "from langchain_openai import ChatOpenAI\n",
    "\n",
    "chain = setup | prompt | ChatOpenAI()\n",
    "chain.invoke('O que é a OpenAI?')"
   ]
  },
  {
   "cell_type": "markdown",
   "id": "af5ebd85",
   "metadata": {},
   "source": [
    "### Juntando tudo"
   ]
  },
  {
   "cell_type": "code",
   "execution_count": null,
   "id": "0986d65e",
   "metadata": {},
   "outputs": [],
   "source": [
    "from langchain_core.prompts import ChatPromptTemplate\n",
    "from langchain_openai import ChatOpenAI\n",
    "from langchain_core.runnables import RunnableParallel, RunnablePassthrough\n",
    "\n",
    "prompt = ChatPromptTemplate.from_template(\n",
    "    '''Responda as perguntas se baseando no contexto fornecido.\n",
    "    \n",
    "    contexto: {contexto}\n",
    "    \n",
    "    pergunta: {pergunta}''')\n",
    "\n",
    "retriever = vectorstore.as_retriever(search_type='mmr', search_kwargs={'k': 5, 'fetch_k': 25})\n",
    "\n",
    "def join_documents(input):\n",
    "    input['contexto'] = '\\n\\n'.join([c.page_content for c in input['contexto']])\n",
    "    return input\n",
    "\n",
    "setup = RunnableParallel({\n",
    "    'pergunta': RunnablePassthrough(),\n",
    "    'contexto': retriever\n",
    "}) | join_documents\n",
    "\n",
    "chain = setup | prompt | ChatOpenAI()\n",
    "chain.invoke('O que é a OpenAI?')"
   ]
  },
  {
   "cell_type": "code",
   "execution_count": null,
   "id": "27952537",
   "metadata": {},
   "outputs": [],
   "source": []
  }
 ],
 "metadata": {
  "kernelspec": {
   "display_name": ".venv",
   "language": "python",
   "name": "python3"
  },
  "language_info": {
   "codemirror_mode": {
    "name": "ipython",
    "version": 3
   },
   "file_extension": ".py",
   "mimetype": "text/x-python",
   "name": "python",
   "nbconvert_exporter": "python",
   "pygments_lexer": "ipython3",
   "version": "3.13.0"
  }
 },
 "nbformat": 4,
 "nbformat_minor": 5
}
