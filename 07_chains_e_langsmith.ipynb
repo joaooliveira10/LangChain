{
 "cells": [
  {
   "cell_type": "markdown",
   "metadata": {},
   "source": [
    "# Criando Chains mais complexas"
   ]
  },
  {
   "cell_type": "markdown",
   "metadata": {},
   "source": [
    "Agora que sabemos criar chains siples com LCEL, podemos começar a nos aventurar em chains mais complexas e compreender o verdadeiro poder do LangChain.\n",
    "\n",
    "Podemos utilizar a capacidade de compor chains, para criar chains de chains. Isso mesmo, podemos acoplar pequenos blocos de chains, domando-os para criar aplicações bem mais complexas e, consequentemente, mais poderosas. \n",
    "\n",
    "A capacidade de um modelo de linguagem aumenta drasticamente conforme mais espeífica for nossa chamada, e é isso que buscamos fazer ao quebrar uma aplicação em múltiplas cadeias."
   ]
  },
  {
   "cell_type": "markdown",
   "metadata": {},
   "source": [
    "## Somando chains"
   ]
  },
  {
   "cell_type": "code",
   "execution_count": 1,
   "metadata": {},
   "outputs": [],
   "source": [
    "from langchain_openai import ChatOpenAI\n",
    "from langchain_core.output_parsers import StrOutputParser\n",
    "from langchain_core.prompts import ChatPromptTemplate\n",
    "\n",
    "prompt = ChatPromptTemplate.from_template('Fale uma curiosidade sobre o assunto: {assunto}')\n",
    "chain_curiosidade = prompt | ChatOpenAI() | StrOutputParser()"
   ]
  },
  {
   "cell_type": "code",
   "execution_count": 2,
   "metadata": {},
   "outputs": [],
   "source": [
    "prompt = ChatPromptTemplate.from_template('Crie uma história sobre o seguinte fato curioso: {assunto}')\n",
    "chain_historia = prompt | ChatOpenAI() | StrOutputParser()"
   ]
  },
  {
   "cell_type": "code",
   "execution_count": 3,
   "metadata": {},
   "outputs": [
    {
     "data": {
      "text/plain": [
       "'Era uma vez no fundo do oceano, um pequeno peixe-palhaço chamado Nemo. Nemo era um peixe macho muito alegre e brincalhão, sempre nadando ao redor dos recifes de coral com seus amigos. Ele era conhecido por sua bela coloração laranja e branca, que o tornava facilmente reconhecível entre os outros peixes.\\n\\nUm dia, Nemo começou a notar algumas mudanças em seu corpo. Sua barbatana dorsal estava crescendo e suas cores estavam se tornando mais vibrantes. Ele também começou a sentir um estranho desejo de proteger e cuidar de um pequeno grupo de peixes-palhaço que viviam nas proximidades.\\n\\nÀ medida que o tempo passava, Nemo percebeu que estava se transformando em uma fêmea. Ele estava se tornando mais dominante e agressivo, características típicas das fêmeas da espécie. No início, ele ficou confuso e assustado com essa mudança, mas aos poucos começou a aceitar sua nova identidade.\\n\\nNemo agora era uma fêmea protandria hermafrodita, capaz de se reproduzir e gerar descendentes. Ele se juntou ao grupo de fêmeas e logo se tornou a líder da comunidade. Sua habilidade de mudar de sexo ao longo da vida era uma vantagem, tornando-o mais adaptável e flexível em diferentes situações.\\n\\nCom o tempo, Nemo se tornou uma mãe amorosa e protetora, cuidando dos filhotes e ensinando-lhes os segredos da vida no oceano. Ele percebeu que sua transformação não apenas o tornou mais forte, mas também mais sensível e empático com os outros peixes ao seu redor.\\n\\nE assim, Nemo viveu feliz para sempre, nadando livremente pelas águas azuis do oceano, mostrando ao mundo que a mudança de sexo não é apenas uma curiosidade da natureza, mas também uma forma de evolução e sobrevivência.'"
      ]
     },
     "execution_count": 3,
     "metadata": {},
     "output_type": "execute_result"
    }
   ],
   "source": [
    "chain = chain_curiosidade | chain_historia\n",
    "chain.invoke({'assunto': 'peixes'})"
   ]
  },
  {
   "cell_type": "markdown",
   "metadata": {},
   "source": [
    "## Como entender o que está acontecendo?\n",
    "\n",
    "Pra isso, podemos utilizar o [langSmith](https://smith.langchain.com/)"
   ]
  },
  {
   "cell_type": "markdown",
   "metadata": {},
   "source": []
  },
  {
   "cell_type": "markdown",
   "metadata": {},
   "source": []
  }
 ],
 "metadata": {
  "kernelspec": {
   "display_name": ".venv",
   "language": "python",
   "name": "python3"
  },
  "language_info": {
   "codemirror_mode": {
    "name": "ipython",
    "version": 3
   },
   "file_extension": ".py",
   "mimetype": "text/x-python",
   "name": "python",
   "nbconvert_exporter": "python",
   "pygments_lexer": "ipython3",
   "version": "3.13.0"
  }
 },
 "nbformat": 4,
 "nbformat_minor": 2
}
