{
 "cells": [
  {
   "attachments": {},
   "cell_type": "markdown",
   "id": "13d7fc40",
   "metadata": {},
   "source": [
    "# Models"
   ]
  },
  {
   "attachments": {},
   "cell_type": "markdown",
   "id": "29de0417",
   "metadata": {},
   "source": [
    "## LLMs"
   ]
  },
  {
   "attachments": {},
   "cell_type": "markdown",
   "id": "e774a8d4",
   "metadata": {},
   "source": [
    "Modelos de Linguagem Grande (LLMs, na sigla em inglês) são um componente central do LangChain. O LangChain não fornece seus próprios LLMs, mas sim oferece uma interface padrão para interagir com diversos LLMs diferentes. Para ser específico, essa interface é uma que recebe como entrada uma string e retorna uma string.\n",
    "\n",
    "Existem muitos provedores de LLMs (OpenAI, Cohere, Hugging Face, etc) - a classe LLM é projetada para fornecer uma interface padrão para todos eles."
   ]
  },
  {
   "cell_type": "code",
   "execution_count": 1,
   "id": "925e5239",
   "metadata": {},
   "outputs": [],
   "source": [
    "from langchain_openai import OpenAI\n",
    "\n",
    "llm = OpenAI(model='gpt-3.5-turbo-instruct')"
   ]
  },
  {
   "attachments": {},
   "cell_type": "markdown",
   "id": "d501a6ce",
   "metadata": {},
   "source": [
    "### Chamando a llm"
   ]
  },
  {
   "cell_type": "code",
   "execution_count": 2,
   "id": "9e6ecc1e",
   "metadata": {},
   "outputs": [
    {
     "data": {
      "text/plain": [
       "'\\n\\nEra uma vez um jovem chamado Lucas que sempre foi fascinado por tecnologia e computadores. Desde criança, ele costumava desmontar e remontar seus brinquedos eletrônicos, tentando entender como funcionavam. Com o passar dos anos, esse interesse se intensificou e ele decidiu que queria aprender a programar.\\n\\nNo começo, Lucas ficou um pouco perdido e não sabia por onde começar. Ele fez algumas pesquisas na internet e descobriu que existiam diversas linguagens de programação e áreas de atuação na área. Ele ficou ainda mais confuso, mas decidiu não desistir.\\n\\nCom muito esforço e dedicação, Lucas escolheu uma linguagem de programação para iniciar seus estudos e começou a assistir aulas online e ler livros sobre o assunto. No começo, ele se sentia perdido e muitas vezes ficava frustrado por não conseguir entender os conceitos mais complexos.\\n\\nMas ele não desistia, continuava praticando todos os dias e buscando novos desafios. Com o tempo, começou a perceber que estava ev'"
      ]
     },
     "execution_count": 2,
     "metadata": {},
     "output_type": "execute_result"
    }
   ],
   "source": [
    "pergunta = 'Conte uma história breve sobre a jornada de aprender a programar'\n",
    "llm.invoke(pergunta)"
   ]
  },
  {
   "attachments": {},
   "cell_type": "markdown",
   "id": "8ade95d2",
   "metadata": {},
   "source": [
    "### Chamando com stream de resposta"
   ]
  },
  {
   "cell_type": "code",
   "execution_count": 3,
   "id": "922a0701",
   "metadata": {},
   "outputs": [
    {
     "name": "stdout",
     "output_type": "stream",
     "text": [
      "\n",
      "\n",
      "Era uma vez uma jovem chamada Sofia que sempre foi fascinada por tecnologia e computadores. Desde criança, ela passava horas navegando na internet e jogando jogos online. Mas um dia, ela percebeu que queria fazer mais do que apenas usar as tecnologias criadas por outras pessoas, ela queria ser capaz de criar suas próprias aplicações e programas.\n",
      "\n",
      "Decidida a aprender a programar, Sofia se matriculou em um curso básico de programação. No começo, ela ficou um pouco intimidada com todas aquelas linhas de código e com a complexidade dos comandos. Mas com determinação e muita prática, ela foi superando os desafios e aprendendo aos poucos.\n",
      "\n",
      "Ao longo da jornada, Sofia descobriu que a programação exigia muito mais do que apenas habilidades técnicas. Era preciso ter paciência, criatividade e uma boa dose de resiliência para enfrentar os erros e bugs que surgiam pelo caminho.\n",
      "\n",
      "Com o passar do tempo, Sofia foi se aperfeiçoando e se apaixonando cada vez mais pela programação. El"
     ]
    }
   ],
   "source": [
    "pergunta = 'Conte uma história breve sobre a jornada de aprender a programar'\n",
    "for trecho in llm.stream(pergunta):\n",
    "    print(trecho, end='')"
   ]
  },
  {
   "attachments": {},
   "cell_type": "markdown",
   "id": "a80ae2cc",
   "metadata": {},
   "source": [
    "### Chamadas simultâneas"
   ]
  },
  {
   "cell_type": "code",
   "execution_count": 4,
   "id": "7ce4ace5",
   "metadata": {},
   "outputs": [
    {
     "data": {
      "text/plain": [
       "['\\n\\nO céu é um conceito presente em diversas culturas e religiões, que se refere a um lugar ou estado de existência que é considerado divino, sagrado e perfeito. Pode ser entendido como um lugar onde as almas dos mortos vão após a morte, ou como um lugar de paz e felicidade eterna, habitado por seres divinos e/ou seres humanos que alcançaram a iluminação espiritual. Em algumas crenças, o céu é visto como um reino superior, acima da Terra, onde reina a harmonia e a perfeição.',\n",
       " '\\n\\nA terra é o terceiro planeta do sistema solar, localizado a uma distância média de 150 milhões de quilômetros do sol. É o único planeta conhecido até o momento que possui condições favoráveis para a existência de vida, como água líquida, atmosfera e uma variedade de elementos químicos essenciais para a manutenção da vida. É também o maior planeta rochoso do sistema solar, com um diâmetro de aproximadamente 12.742 km e uma massa de 5,97 x 10²⁴ kg. Além disso, a terra é formada por diversas camadas, incluindo a crosta terrestre, o manto e o núcleo. É um planeta dinâmico, com movimentos tectônicos, vulcões ativos, mudanças climáticas e uma grande diversidade de ecossistemas.',\n",
       " '\\n\\nAs estrelas são corpos celestes formados por gases, principalmente hidrogênio e hélio, que emitem luz e calor devido às reações nucleares que ocorrem em seu interior. São encontradas em grandes quantidades no universo e podem ser vistas no céu noturno como pequenos pontos luminosos. As estrelas desempenham um papel fundamental na formação e evolução do universo, além de serem importantes fontes de energia e elementos químicos. Existem diferentes tipos de estrelas, com características e cores distintas, e sua vida pode durar milhões ou bilhões de anos, dependendo do seu tamanho e composição. ']"
      ]
     },
     "execution_count": 4,
     "metadata": {},
     "output_type": "execute_result"
    }
   ],
   "source": [
    "perguntas = [\n",
    "    'O que é o céu?',\n",
    "    'O que é a terra?',\n",
    "    'O que são as estrelas?'\n",
    "]\n",
    "\n",
    "llm.batch(perguntas)"
   ]
  },
  {
   "attachments": {},
   "cell_type": "markdown",
   "id": "4f6d48b1",
   "metadata": {},
   "source": [
    "## ChatModels"
   ]
  },
  {
   "attachments": {},
   "cell_type": "markdown",
   "id": "8796004d",
   "metadata": {},
   "source": [
    "ChatModels são um componente central do LangChain.\n",
    "\n",
    "Um modelo de chat é um modelo de linguagem que utiliza mensagens de chat como entradas e retorna mensagens de chat como saídas (ao invés de usar texto puro).\n",
    "\n",
    "O LangChain possui integrações com vários provedores de modelos (OpenAI, Cohere, Hugging Face, etc.) e expõe uma interface padrão para interagir com todos esses modelos."
   ]
  },
  {
   "cell_type": "code",
   "execution_count": 5,
   "id": "e887b020",
   "metadata": {},
   "outputs": [],
   "source": [
    "from langchain_openai import ChatOpenAI\n",
    "\n",
    "chat = ChatOpenAI(model='gpt-3.5-turbo-0125')"
   ]
  },
  {
   "cell_type": "code",
   "execution_count": 6,
   "id": "7c38bed6",
   "metadata": {},
   "outputs": [],
   "source": [
    "from langchain_core.messages import HumanMessage, SystemMessage\n",
    "\n",
    "mensagens = [\n",
    "    SystemMessage(content='Você é um assistente que conta piadas.'),\n",
    "    HumanMessage(content='Quanto é 1 + 1?')\n",
    "]\n",
    "resposta = chat.invoke(mensagens)"
   ]
  },
  {
   "cell_type": "code",
   "execution_count": 7,
   "id": "085f5b8a",
   "metadata": {},
   "outputs": [
    {
     "name": "stdout",
     "output_type": "stream",
     "text": [
      "Depende, você quer a resposta matemática ou a resposta de uma piada?\n"
     ]
    }
   ],
   "source": [
    "print(resposta.content)"
   ]
  },
  {
   "cell_type": "code",
   "execution_count": 8,
   "id": "71c7a923",
   "metadata": {},
   "outputs": [
    {
     "data": {
      "text/plain": [
       "{'token_usage': {'completion_tokens': 19,\n",
       "  'prompt_tokens': 30,\n",
       "  'total_tokens': 49,\n",
       "  'completion_tokens_details': {'accepted_prediction_tokens': 0,\n",
       "   'audio_tokens': 0,\n",
       "   'reasoning_tokens': 0,\n",
       "   'rejected_prediction_tokens': 0},\n",
       "  'prompt_tokens_details': {'audio_tokens': 0, 'cached_tokens': 0}},\n",
       " 'model_name': 'gpt-3.5-turbo-0125',\n",
       " 'system_fingerprint': None,\n",
       " 'finish_reason': 'stop',\n",
       " 'logprobs': None}"
      ]
     },
     "execution_count": 8,
     "metadata": {},
     "output_type": "execute_result"
    }
   ],
   "source": [
    "resposta.response_metadata"
   ]
  },
  {
   "cell_type": "code",
   "execution_count": 9,
   "id": "af00b115",
   "metadata": {},
   "outputs": [
    {
     "name": "stdout",
     "output_type": "stream",
     "text": [
      "Depende, você está usando a matemática ou a lógica das piadas? Se for matemática, a resposta é 2. Mas se for lógica de piadas, a resposta é 11! 😄"
     ]
    }
   ],
   "source": [
    "from langchain_core.messages import HumanMessage, SystemMessage\n",
    "\n",
    "mensagens = [\n",
    "    SystemMessage(content='Você é um assistente que conta piadas.'),\n",
    "    HumanMessage(content='Quanto é 1 + 1?')\n",
    "]\n",
    "for trecho in chat.stream(mensagens):\n",
    "    print(trecho.content, end='')"
   ]
  },
  {
   "attachments": {},
   "cell_type": "markdown",
   "id": "efae899e",
   "metadata": {},
   "source": [
    "Existem 5 tipos diferentes de mensagens:\n",
    "\n",
    "- `HumanMessage`: Isso representa uma mensagem do usuário. Geralmente consiste apenas de conteúdo.\n",
    "\n",
    "- `AIMessage`: Isso representa uma mensagem do modelo. Pode ter additional_kwargs incluídos - por exemplo, tool_calls se estiver usando chamadas de ferramentas da OpenAI.\n",
    "\n",
    "- `SystemMessage`: Isso representa uma mensagem do sistema, que indica ao modelo como se comportar. Geralmente consiste apenas de conteúdo. Nem todo modelo suporta isso.\n",
    "\n",
    "- `FunctionMessage`: Isso representa o resultado de uma chamada de função. Além do papel e conteúdo, esta mensagem tem um parâmetro de nome que transmite o nome da função que foi chamada para produzir este resultado.\n",
    "\n",
    "- `ToolMessage`: Isso representa o resultado de uma chamada de ferramenta. Isso é distinto de uma Mensagem de Função a fim de corresponder aos tipos de mensagens de função e ferramenta da OpenAI. Além do papel e conteúdo, esta mensagem tem um parâmetro tool_call_id que transmite o id da chamada à ferramenta que foi feita para produzir este resultado."
   ]
  },
  {
   "cell_type": "code",
   "execution_count": null,
   "id": "f2efaf41",
   "metadata": {},
   "outputs": [],
   "source": []
  }
 ],
 "metadata": {
  "kernelspec": {
   "display_name": ".venv",
   "language": "python",
   "name": "python3"
  },
  "language_info": {
   "codemirror_mode": {
    "name": "ipython",
    "version": 3
   },
   "file_extension": ".py",
   "mimetype": "text/x-python",
   "name": "python",
   "nbconvert_exporter": "python",
   "pygments_lexer": "ipython3",
   "version": "3.11.9"
  }
 },
 "nbformat": 4,
 "nbformat_minor": 5
}
